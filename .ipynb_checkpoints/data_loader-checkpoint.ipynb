{
 "cells": [
  {
   "cell_type": "code",
   "execution_count": 3,
   "id": "28fc5d19-f0f5-4200-8be6-9eca764eca97",
   "metadata": {},
   "outputs": [],
   "source": [
    "import h5py\n",
    "import numpy as np\n"
   ]
  },
  {
   "cell_type": "code",
   "execution_count": 13,
   "id": "d665b811-8428-493b-b0ee-2375eb1fecb2",
   "metadata": {},
   "outputs": [],
   "source": [
    "train_dataset = h5py.File('datasets/train_catvnoncat.h5','r')\n",
    "test_dataset = h5py.File('datasets/test_catvnoncat.h5','r')"
   ]
  },
  {
   "cell_type": "code",
   "execution_count": 6,
   "id": "2dd9ab1b-5d1b-498b-9dfd-78a053d3a678",
   "metadata": {},
   "outputs": [
    {
     "data": {
      "text/plain": [
       "<KeysViewHDF5 ['list_classes', 'train_set_x', 'train_set_y']>"
      ]
     },
     "execution_count": 6,
     "metadata": {},
     "output_type": "execute_result"
    }
   ],
   "source": [
    "train_dataset.keys()"
   ]
  },
  {
   "cell_type": "code",
   "execution_count": 8,
   "id": "04548f9e-8c7c-4be8-ac52-6a0a41c60642",
   "metadata": {},
   "outputs": [],
   "source": [
    "train_set_x_origin = np.array(train_dataset[\"train_set_x\"[:]])"
   ]
  },
  {
   "cell_type": "raw",
   "id": "4d036a92-5ed8-415f-9e77-85671f6fc883",
   "metadata": {},
   "source": [
    "train_set_y_origin = np.array(train_dataset[\"train_set_y\"[:]])"
   ]
  },
  {
   "cell_type": "code",
   "execution_count": 10,
   "id": "e6eed419-92a7-4f86-8b3d-63af6037e29b",
   "metadata": {},
   "outputs": [],
   "source": [
    "train_set_y_origin = np.array(train_dataset[\"train_set_y\"[:]])"
   ]
  },
  {
   "cell_type": "code",
   "execution_count": 14,
   "id": "8f941cf4-aff2-4f45-b27c-847885ca189d",
   "metadata": {},
   "outputs": [
    {
     "data": {
      "text/plain": [
       "<KeysViewHDF5 ['list_classes', 'test_set_x', 'test_set_y']>"
      ]
     },
     "execution_count": 14,
     "metadata": {},
     "output_type": "execute_result"
    }
   ],
   "source": [
    "test_dataset.keys()"
   ]
  },
  {
   "cell_type": "code",
   "execution_count": 17,
   "id": "48a344c5-39a7-43fb-9931-3aa0c3c9d18e",
   "metadata": {},
   "outputs": [],
   "source": [
    "test_set_x_origin = np.array(test_dataset['test_set_y'][:])"
   ]
  },
  {
   "cell_type": "code",
   "execution_count": 18,
   "id": "eee0f2e0-c686-450f-956b-7077c26e174d",
   "metadata": {},
   "outputs": [
    {
     "data": {
      "text/plain": [
       "array([1, 1, 1, 1, 1, 0, 1, 1, 1, 1, 1, 1, 1, 0, 0, 1, 0, 1, 1, 1, 1, 0,\n",
       "       0, 1, 1, 1, 1, 0, 1, 0, 1, 1, 1, 1, 0, 0, 0, 1, 0, 0, 1, 1, 1, 0,\n",
       "       0, 0, 1, 1, 1, 0])"
      ]
     },
     "execution_count": 18,
     "metadata": {},
     "output_type": "execute_result"
    }
   ],
   "source": [
    "test_set_x_origin\n"
   ]
  },
  {
   "cell_type": "code",
   "execution_count": 22,
   "id": "26868b61-f885-4934-9f06-1cdf88ece6da",
   "metadata": {},
   "outputs": [],
   "source": [
    "train_set_x_flatten = train_set_x_origin.reshape(train_set_x_origin.shape[0],-1).T\n"
   ]
  },
  {
   "cell_type": "code",
   "execution_count": 27,
   "id": "b3ea3f57-eeca-4926-8eec-758a18260e4f",
   "metadata": {},
   "outputs": [
    {
     "data": {
      "text/plain": [
       "(12288, 209)"
      ]
     },
     "execution_count": 27,
     "metadata": {},
     "output_type": "execute_result"
    }
   ],
   "source": [
    "train_set_x_flatten.shape"
   ]
  },
  {
   "cell_type": "code",
   "execution_count": 28,
   "id": "9413778e-957f-4d56-af2c-1ce1c0c9c39a",
   "metadata": {},
   "outputs": [
    {
     "data": {
      "text/plain": [
       "(209,)"
      ]
     },
     "execution_count": 28,
     "metadata": {},
     "output_type": "execute_result"
    }
   ],
   "source": [
    "train_set_y_origin.shape"
   ]
  },
  {
   "cell_type": "code",
   "execution_count": 29,
   "id": "80c2c011-c83d-4889-8176-12168ec68a29",
   "metadata": {},
   "outputs": [
    {
     "data": {
      "text/plain": [
       "array([[0, 0, 1, 0, 0, 0, 0, 1, 0, 0, 0, 1, 0, 1, 1, 0, 0, 0, 0, 1, 0, 0,\n",
       "        0, 0, 1, 1, 0, 1, 0, 1, 0, 0, 0, 0, 0, 0, 0, 0, 1, 0, 0, 1, 1, 0,\n",
       "        0, 0, 0, 1, 0, 0, 1, 0, 0, 0, 1, 0, 1, 1, 0, 1, 1, 1, 0, 0, 0, 0,\n",
       "        0, 0, 1, 0, 0, 1, 0, 0, 0, 0, 0, 0, 0, 0, 0, 0, 0, 1, 1, 0, 0, 0,\n",
       "        1, 0, 0, 0, 1, 1, 1, 0, 0, 1, 0, 0, 0, 0, 1, 0, 1, 0, 1, 1, 1, 1,\n",
       "        1, 1, 0, 0, 0, 0, 0, 1, 0, 0, 0, 1, 0, 0, 1, 0, 1, 0, 1, 1, 0, 0,\n",
       "        0, 1, 1, 1, 1, 1, 0, 0, 0, 0, 1, 0, 1, 1, 1, 0, 1, 1, 0, 0, 0, 1,\n",
       "        0, 0, 1, 0, 0, 0, 0, 0, 1, 0, 1, 0, 1, 0, 0, 1, 1, 1, 0, 0, 1, 1,\n",
       "        0, 1, 0, 1, 0, 0, 0, 0, 0, 1, 0, 0, 1, 0, 0, 0, 1, 0, 0, 0, 0, 1,\n",
       "        0, 0, 1, 0, 0, 0, 0, 0, 0, 0, 0]])"
      ]
     },
     "execution_count": 29,
     "metadata": {},
     "output_type": "execute_result"
    }
   ],
   "source": [
    "train_set_y_origin.reshape(1,train_set_y_origin.shape[0])"
   ]
  },
  {
   "cell_type": "code",
   "execution_count": null,
   "id": "c71429cc-2d71-435c-8f8d-e0bddd15c694",
   "metadata": {},
   "outputs": [],
   "source": []
  }
 ],
 "metadata": {
  "kernelspec": {
   "display_name": "Python 3 (ipykernel)",
   "language": "python",
   "name": "python3"
  },
  "language_info": {
   "codemirror_mode": {
    "name": "ipython",
    "version": 3
   },
   "file_extension": ".py",
   "mimetype": "text/x-python",
   "name": "python",
   "nbconvert_exporter": "python",
   "pygments_lexer": "ipython3",
   "version": "3.12.3"
  }
 },
 "nbformat": 4,
 "nbformat_minor": 5
}
